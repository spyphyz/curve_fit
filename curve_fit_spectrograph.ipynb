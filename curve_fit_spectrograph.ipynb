{
 "cells": [
  {
   "cell_type": "markdown",
   "metadata": {},
   "source": [
    "# SPECTRUM FITTING"
   ]
  },
  {
   "cell_type": "markdown",
   "metadata": {},
   "source": [
    "Available on GitHub at https://github.com/spyphyz/curve_fit\n",
    "\n",
    "The following codes approach the problem in 2 different ways. Scipy is used for continuum fitting, using a power law. \n",
    "Emission line fitting is performed using Gaussian (and trapezoid, if required) models in astropy. Both codes allow you to choose a range of wavelengths that you want to investigate (by changing 'lower_limit', and 'upper_limit'). \n",
    "\n",
    "I've had a go at using sherpa as well, but have got a bit stuck. \n",
    "\n",
    "You could no doubt flip this around, and perform either task using either python module, but I haven't had time to explore this further.\n",
    "\n",
    "An alternative way of doing these fits may in fact to be to invoke R code... embedd in the Python code\n",
    "\n",
    "These codes import a csv file into a pandas dataframe; could utilise astropy.io to import FITS files if required - can also convert into a dataframe if required."
   ]
  },
  {
   "cell_type": "markdown",
   "metadata": {},
   "source": [
    "## Scipy - Continuum Fit"
   ]
  },
  {
   "cell_type": "markdown",
   "metadata": {},
   "source": [
    "https://docs.scipy.org/doc/scipy/reference/generated/scipy.optimize.curve_fit.html for scipy.optimize.curve_fit details\n",
    "\n",
    "Here I present a power law fit - can also perform polynomial fits using curve_fit.\n",
    "\n",
    "Also see https://github.com/jeffalstott/powerlaw/blob/master/manuscript/Manuscript_Code.ipynb and https://arxiv.org/abs/1305.0215 for an alternative python powerlaw module, that could possibly automate the wavelength ranges fitted."
   ]
  },
  {
   "cell_type": "code",
   "execution_count": null,
   "metadata": {},
   "outputs": [],
   "source": [
    "%matplotlib inline\n",
    "import os\n",
    "import pandas as pd\n",
    "from pandas import DataFrame\n",
    "import numpy as np\n",
    "import matplotlib.pyplot as plt\n",
    "from scipy.optimize import curve_fit"
   ]
  },
  {
   "cell_type": "code",
   "execution_count": null,
   "metadata": {},
   "outputs": [],
   "source": [
    "# Input data into a pandas dataframe\n",
    "path = 'Dropbox/OpenUniversity/S382_Astrophysics/SDSS_Project/sdss_abell/extra_stuff/curve_fits'\n",
    "file = 'spectrum_z03_z18_auto_model.csv'\n",
    "df1 = pd.read_csv(os.path.join(path, file))\n",
    "df1.head(2)"
   ]
  },
  {
   "cell_type": "code",
   "execution_count": null,
   "metadata": {},
   "outputs": [],
   "source": [
    "# choose the range of wavelength you want to apply the continuum fit to\n",
    "lower_limit = 2000\n",
    "upper_limit = 4000\n",
    "df2 = df1[(df1['wavelength'] >= lower_limit) & (df1['wavelength'] <= upper_limit)]\n",
    "\n",
    "# plot this section of spectrum (spectral flux density is in arbitrary units)\n",
    "df2.plot(x='wavelength', y='flux', lw=0.4, color='green', label='data')\n",
    "plt.title('Continuum Section', fontsize=24, color='black')\n",
    "plt.xlabel('Emitted Wavelength / A',  fontsize=13)\n",
    "plt.ylabel('Spectral Flux Density / AU', fontsize=11)"
   ]
  },
  {
   "cell_type": "code",
   "execution_count": null,
   "metadata": {},
   "outputs": [],
   "source": [
    "xData = df2['wavelength']\n",
    "yData = df2['flux']\n",
    "\n",
    "def f(x, N, a):\n",
    "    return N * x ** a\n",
    "\n",
    "# optimize\n",
    "popt, pcov = curve_fit(f, xData, yData)\n",
    "\n",
    "# the output here are the values for k and a, respectively, where y = kx^a\n",
    "popt[0], popt[1]"
   ]
  },
  {
   "cell_type": "code",
   "execution_count": null,
   "metadata": {},
   "outputs": [],
   "source": [
    "# 1SD of the parameters in popt, calculated from the covariance pcov array\n",
    "perr = np.sqrt(np.diag(pcov))\n",
    "perr"
   ]
  },
  {
   "cell_type": "code",
   "execution_count": null,
   "metadata": {},
   "outputs": [],
   "source": [
    "# plot data with power model\n",
    "plt.plot(xData, yData, 'g', label='data') # original spectrum data in green\n",
    "plt.plot(xData, popt[0]*xData**popt[1], 'r', label='power model') # power model data in red\n",
    "\n",
    "# plot standard deviation curves, based on perr\n",
    "plt.plot(xData, (popt[0]+perr[1])*xData**(popt[1]+perr[1]), lw=0.2, color='y', label='+1SD')\n",
    "plt.plot(xData, (popt[0]-perr[1])*xData**(popt[1]-perr[1]), lw=0.2, color='y', label='- 1SD')\n",
    "\n",
    "plt.title('Continuum Fit', fontsize=24, color='black')\n",
    "plt.xlabel('Emission Wavelength / A')\n",
    "plt.ylabel('Spectral Flux Density / AU')\n",
    "plt.legend()\n",
    "plt.savefig(os.path.join(path, 'spectrum_continuum.png'), dpi = 1080)"
   ]
  },
  {
   "cell_type": "markdown",
   "metadata": {},
   "source": [
    "## Astropy - Emission Line Fit"
   ]
  },
  {
   "cell_type": "markdown",
   "metadata": {
    "collapsed": true
   },
   "source": [
    "See http://docs.astropy.org/en/stable/modeling/index.html for astropy model details\n",
    "This code works by inputting a csv file of data which has already had the baseline continuum model subtracted. You could also perform this subtraction easily within the pandas dataframe if so desired, and even input the power law model automatically from the Scipy code above if you were really clever. "
   ]
  },
  {
   "cell_type": "code",
   "execution_count": 96,
   "metadata": {},
   "outputs": [],
   "source": [
    "%matplotlib inline\n",
    "import numpy as np\n",
    "import pandas as pd\n",
    "from pandas import DataFrame\n",
    "import matplotlib.pyplot as plt\n",
    "import os\n",
    "from astropy.modeling import models, fitting\n",
    "from astropy.modeling.models import Gaussian1D"
   ]
  },
  {
   "cell_type": "code",
   "execution_count": 97,
   "metadata": {},
   "outputs": [],
   "source": [
    "# Using the Levenberg-Marquardt algorithm and least squares statistic - LevMarLSQFitter()\n",
    "# Fitting Gaussian and Trapezoid models to a curve"
   ]
  },
  {
   "cell_type": "code",
   "execution_count": 98,
   "metadata": {},
   "outputs": [
    {
     "data": {
      "text/html": [
       "<div>\n",
       "<style scoped>\n",
       "    .dataframe tbody tr th:only-of-type {\n",
       "        vertical-align: middle;\n",
       "    }\n",
       "\n",
       "    .dataframe tbody tr th {\n",
       "        vertical-align: top;\n",
       "    }\n",
       "\n",
       "    .dataframe thead th {\n",
       "        text-align: right;\n",
       "    }\n",
       "</style>\n",
       "<table border=\"1\" class=\"dataframe\">\n",
       "  <thead>\n",
       "    <tr style=\"text-align: right;\">\n",
       "      <th></th>\n",
       "      <th>wavelength</th>\n",
       "      <th>flux</th>\n",
       "      <th>model_top</th>\n",
       "      <th>model_middle</th>\n",
       "      <th>model_bottom</th>\n",
       "      <th>flux_minus_top</th>\n",
       "      <th>flux_minus_middle</th>\n",
       "      <th>flux_minus_bottom</th>\n",
       "      <th>Unnamed: 8</th>\n",
       "      <th>flux_minus_middle_minus20</th>\n",
       "      <th>flux_minus_top_minus15</th>\n",
       "      <th>Unnamed: 11</th>\n",
       "      <th>scatter</th>\n",
       "      <th>error</th>\n",
       "    </tr>\n",
       "  </thead>\n",
       "  <tbody>\n",
       "    <tr>\n",
       "      <th>0</th>\n",
       "      <td>1279</td>\n",
       "      <td>439.459226</td>\n",
       "      <td>452.737237</td>\n",
       "      <td>360.165597</td>\n",
       "      <td>393.085315</td>\n",
       "      <td>-13.278011</td>\n",
       "      <td>79.293629</td>\n",
       "      <td>46.373911</td>\n",
       "      <td>NaN</td>\n",
       "      <td>59.293629</td>\n",
       "      <td>-28.278011</td>\n",
       "      <td>NaN</td>\n",
       "      <td>0.000000</td>\n",
       "      <td>70.662066</td>\n",
       "    </tr>\n",
       "    <tr>\n",
       "      <th>1</th>\n",
       "      <td>1280</td>\n",
       "      <td>436.743732</td>\n",
       "      <td>452.094768</td>\n",
       "      <td>359.708749</td>\n",
       "      <td>392.566460</td>\n",
       "      <td>-15.351036</td>\n",
       "      <td>77.034983</td>\n",
       "      <td>44.177272</td>\n",
       "      <td>NaN</td>\n",
       "      <td>57.034983</td>\n",
       "      <td>-30.351036</td>\n",
       "      <td>NaN</td>\n",
       "      <td>47.443813</td>\n",
       "      <td>26.924685</td>\n",
       "    </tr>\n",
       "    <tr>\n",
       "      <th>2</th>\n",
       "      <td>1281</td>\n",
       "      <td>362.859198</td>\n",
       "      <td>451.453711</td>\n",
       "      <td>359.252836</td>\n",
       "      <td>392.048693</td>\n",
       "      <td>-88.594512</td>\n",
       "      <td>3.606363</td>\n",
       "      <td>-29.189495</td>\n",
       "      <td>NaN</td>\n",
       "      <td>-16.393637</td>\n",
       "      <td>-103.594512</td>\n",
       "      <td>NaN</td>\n",
       "      <td>21.129959</td>\n",
       "      <td>20.269848</td>\n",
       "    </tr>\n",
       "  </tbody>\n",
       "</table>\n",
       "</div>"
      ],
      "text/plain": [
       "   wavelength        flux   model_top  model_middle  model_bottom  \\\n",
       "0        1279  439.459226  452.737237    360.165597    393.085315   \n",
       "1        1280  436.743732  452.094768    359.708749    392.566460   \n",
       "2        1281  362.859198  451.453711    359.252836    392.048693   \n",
       "\n",
       "   flux_minus_top  flux_minus_middle  flux_minus_bottom  Unnamed: 8  \\\n",
       "0      -13.278011          79.293629          46.373911         NaN   \n",
       "1      -15.351036          77.034983          44.177272         NaN   \n",
       "2      -88.594512           3.606363         -29.189495         NaN   \n",
       "\n",
       "   flux_minus_middle_minus20  flux_minus_top_minus15  Unnamed: 11    scatter  \\\n",
       "0                  59.293629              -28.278011          NaN   0.000000   \n",
       "1                  57.034983              -30.351036          NaN  47.443813   \n",
       "2                 -16.393637             -103.594512          NaN  21.129959   \n",
       "\n",
       "       error  \n",
       "0  70.662066  \n",
       "1  26.924685  \n",
       "2  20.269848  "
      ]
     },
     "execution_count": 98,
     "metadata": {},
     "output_type": "execute_result"
    }
   ],
   "source": [
    "# Input data into a pandas dataframe\n",
    "path = 'Dropbox/OpenUniversity/S382_Astrophysics/SDSS_Project/sdss_abell/extra_stuff/curve_fits'\n",
    "file = 'spectrum_z03_z18_auto_model.csv'\n",
    "df1 = pd.read_csv(os.path.join(path, file))\n",
    "df1.head(3)"
   ]
  },
  {
   "cell_type": "code",
   "execution_count": 99,
   "metadata": {},
   "outputs": [],
   "source": [
    "lower_limit = 4800\n",
    "upper_limit = 4950\n",
    "df2 = df1[(df1['wavelength'] >= lower_limit) & (df1['wavelength'] <= upper_limit)]"
   ]
  },
  {
   "cell_type": "code",
   "execution_count": 100,
   "metadata": {},
   "outputs": [
    {
     "data": {
      "text/plain": [
       "Text(0,0.5,'Continuum-Subtracted Spectral Flux Density / AU')"
      ]
     },
     "execution_count": 100,
     "metadata": {},
     "output_type": "execute_result"
    },
    {
     "data": {
      "image/png": "[encoded data removed]",
      "text/plain": [
       "<matplotlib.figure.Figure at 0x1817a79c50>"
      ]
     },
     "metadata": {},
     "output_type": "display_data"
    }
   ],
   "source": [
    "df2.plot(x='wavelength', y='flux_minus_top_minus15', lw=0.6, color='blue', label='data') #lw = line width\n",
    "plt.title('Emission Peak Isolated', fontsize=14, color='black')\n",
    "plt.legend()\n",
    "# plt.grid(True)\n",
    "plt.xlabel('Emitted Wavelength / A',  fontsize=13)\n",
    "plt.ylabel('Continuum-Subtracted Spectral Flux Density / AU', fontsize=9)"
   ]
  },
  {
   "cell_type": "code",
   "execution_count": 101,
   "metadata": {},
   "outputs": [],
   "source": [
    "x = df2['wavelength']\n",
    "y = df2['flux_minus_top_minus15']"
   ]
  },
  {
   "cell_type": "code",
   "execution_count": 104,
   "metadata": {},
   "outputs": [
    {
     "data": {
      "image/png": "[encoded data removed]",
      "text/plain": [
       "<matplotlib.figure.Figure at 0x1817ef92e8>"
      ]
     },
     "metadata": {},
     "output_type": "display_data"
    }
   ],
   "source": [
    "# Fit the data using a box model\n",
    "# Insert best guesses for model parameters\n",
    "#t_init = models.Trapezoid1D(amplitude=58, x_0=2797., width=200, slope=0.5)\n",
    "#fit_t = fitting.LevMarLSQFitter()\n",
    "#t = fit_t(t_init, x, y)\n",
    "\n",
    "# Fit the data using a Gaussian\n",
    "# set mean as the rest emission wavelength for species (e.g. Mg II)\n",
    "g_init = models.Gaussian1D(amplitude=40, mean=4861, stddev=25)\n",
    "fit_g = fitting.LevMarLSQFitter()\n",
    "g = fit_g(g_init, x, y)\n",
    "\n",
    "# Plot the data with the best-fit model\n",
    "plt.figure(figsize=(8,5))\n",
    "plt.plot(x, y, '.', label='data points')\n",
    "plt.plot(x, g(x), label='gaussian fit', color='red')\n",
    "\n",
    "plt.axvline(x=g.mean.value, label='mean', color='yellow', lw=0.5)\n",
    "plt.axvline(x=g.mean.value+0.5*g.fwhm, label='fwhm', color='purple', lw=0.5)\n",
    "plt.axvline(x=g.mean.value-0.5*g.fwhm, color='purple', lw=0.5)\n",
    "\n",
    "#plt.plot(x, t(x), label='Trapezoid')\n",
    "\n",
    "plt.title('Emission Peak Gaussian-Fitted (Astropy)', fontsize=14, color='black')\n",
    "plt.xlabel('Emission Wavelength / A')\n",
    "plt.ylabel('Continuum-Subtracted Spectral Flux Density / AU')\n",
    "plt.ylim(0,)\n",
    "plt.legend()\n",
    "plt.savefig(os.path.join(path, 'Hbeta_curve_fit.png'), dpi = 1080)"
   ]
  },
  {
   "cell_type": "code",
   "execution_count": null,
   "metadata": {},
   "outputs": [],
   "source": [
    "# this prints the model output parameters after fitting\n",
    "print(g)\n",
    "#Prints FWHM (units are Angstroms)...\n",
    "g.fwhm"
   ]
  },
  {
   "cell_type": "code",
   "execution_count": null,
   "metadata": {},
   "outputs": [],
   "source": [
    "# this prints the model output parameters after fitting\n",
    "# print(t)"
   ]
  },
  {
   "cell_type": "markdown",
   "metadata": {},
   "source": [
    "## Sherpa Fits"
   ]
  },
  {
   "cell_type": "markdown",
   "metadata": {},
   "source": [
    "Install sherpa and saba as per instructions: https://github.com/astropy/saba/blob/d729b34262f70d0679cdcb112ab2832b73791098/docs/index.rst#id17\n",
    "\n",
    "Further install details: https://github.com/sherpa/sherpa/\n",
    "\n",
    "Documentation: http://cxc.harvard.edu/sherpa4.10/, http://conference.scipy.org/proceedings/SciPy2009/paper_8/full_text.pdf, http://conference.scipy.org/proceedings/scipy2011/pdfs/brefsdal.pdf, http://adsabs.harvard.edu/abs/2007ASPC..376..543D and http://cxc.cfa.harvard.edu/contrib/sherpa/"
   ]
  },
  {
   "cell_type": "code",
   "execution_count": 1,
   "metadata": {},
   "outputs": [],
   "source": [
    "%matplotlib inline\n",
    "import numpy as np\n",
    "import pandas as pd\n",
    "from pandas import DataFrame\n",
    "import matplotlib.pyplot as plt\n",
    "import os\n",
    "from astropy.modeling.fitting import SherpaFitter\n",
    "from astropy.modeling.models import Gaussian1D"
   ]
  },
  {
   "cell_type": "code",
   "execution_count": 14,
   "metadata": {},
   "outputs": [
    {
     "data": {
      "text/html": [
       "<div>\n",
       "<style scoped>\n",
       "    .dataframe tbody tr th:only-of-type {\n",
       "        vertical-align: middle;\n",
       "    }\n",
       "\n",
       "    .dataframe tbody tr th {\n",
       "        vertical-align: top;\n",
       "    }\n",
       "\n",
       "    .dataframe thead th {\n",
       "        text-align: right;\n",
       "    }\n",
       "</style>\n",
       "<table border=\"1\" class=\"dataframe\">\n",
       "  <thead>\n",
       "    <tr style=\"text-align: right;\">\n",
       "      <th></th>\n",
       "      <th>wavelength</th>\n",
       "      <th>flux</th>\n",
       "      <th>model_top</th>\n",
       "      <th>model_middle</th>\n",
       "      <th>model_bottom</th>\n",
       "      <th>flux_minus_top</th>\n",
       "      <th>flux_minus_middle</th>\n",
       "      <th>flux_minus_bottom</th>\n",
       "      <th>Unnamed: 8</th>\n",
       "      <th>flux_minus_middle_minus20</th>\n",
       "      <th>flux_minus_top_minus15</th>\n",
       "      <th>Unnamed: 11</th>\n",
       "      <th>scatter</th>\n",
       "      <th>error</th>\n",
       "    </tr>\n",
       "  </thead>\n",
       "  <tbody>\n",
       "    <tr>\n",
       "      <th>0</th>\n",
       "      <td>1279</td>\n",
       "      <td>439.459226</td>\n",
       "      <td>452.737237</td>\n",
       "      <td>360.165597</td>\n",
       "      <td>393.085315</td>\n",
       "      <td>-13.278011</td>\n",
       "      <td>79.293629</td>\n",
       "      <td>46.373911</td>\n",
       "      <td>NaN</td>\n",
       "      <td>59.293629</td>\n",
       "      <td>-28.278011</td>\n",
       "      <td>NaN</td>\n",
       "      <td>0.000000</td>\n",
       "      <td>70.662066</td>\n",
       "    </tr>\n",
       "    <tr>\n",
       "      <th>1</th>\n",
       "      <td>1280</td>\n",
       "      <td>436.743732</td>\n",
       "      <td>452.094768</td>\n",
       "      <td>359.708749</td>\n",
       "      <td>392.566460</td>\n",
       "      <td>-15.351036</td>\n",
       "      <td>77.034983</td>\n",
       "      <td>44.177272</td>\n",
       "      <td>NaN</td>\n",
       "      <td>57.034983</td>\n",
       "      <td>-30.351036</td>\n",
       "      <td>NaN</td>\n",
       "      <td>47.443813</td>\n",
       "      <td>26.924685</td>\n",
       "    </tr>\n",
       "  </tbody>\n",
       "</table>\n",
       "</div>"
      ],
      "text/plain": [
       "   wavelength        flux   model_top  model_middle  model_bottom  \\\n",
       "0        1279  439.459226  452.737237    360.165597    393.085315   \n",
       "1        1280  436.743732  452.094768    359.708749    392.566460   \n",
       "\n",
       "   flux_minus_top  flux_minus_middle  flux_minus_bottom  Unnamed: 8  \\\n",
       "0      -13.278011          79.293629          46.373911         NaN   \n",
       "1      -15.351036          77.034983          44.177272         NaN   \n",
       "\n",
       "   flux_minus_middle_minus20  flux_minus_top_minus15  Unnamed: 11    scatter  \\\n",
       "0                  59.293629              -28.278011          NaN   0.000000   \n",
       "1                  57.034983              -30.351036          NaN  47.443813   \n",
       "\n",
       "       error  \n",
       "0  70.662066  \n",
       "1  26.924685  "
      ]
     },
     "execution_count": 14,
     "metadata": {},
     "output_type": "execute_result"
    }
   ],
   "source": [
    "# Input data into a pandas dataframe\n",
    "path = 'Dropbox/OpenUniversity/S382_Astrophysics/SDSS_Project/sdss_abell/extra_stuff/curve_fits'\n",
    "file = 'spectrum_z03_z18_auto_model.csv'\n",
    "df1 = pd.read_csv(os.path.join(path, file))\n",
    "df1.head(2)"
   ]
  },
  {
   "cell_type": "code",
   "execution_count": 15,
   "metadata": {},
   "outputs": [
    {
     "data": {
      "text/plain": [
       "Text(0,0.5,'Continuum-Subtracted Spectral Flux Density / AU')"
      ]
     },
     "execution_count": 15,
     "metadata": {},
     "output_type": "execute_result"
    },
    {
     "data": {
      "image/png": "[encoded data removed]",
      "text/plain": [
       "<matplotlib.figure.Figure at 0x1813c64898>"
      ]
     },
     "metadata": {},
     "output_type": "display_data"
    }
   ],
   "source": [
    "lower_limit = 4800\n",
    "upper_limit = 4950\n",
    "df2 = df1[(df1['wavelength'] >= lower_limit) & (df1['wavelength'] <= upper_limit)]\n",
    "\n",
    "df2.plot(x='wavelength', y='flux_minus_top_minus15', lw=0.6, color='blue', label='data') #lw = line width\n",
    "plt.title('Emission Peak Isolated', fontsize=14, color='black')\n",
    "plt.legend()\n",
    "# plt.grid(True)\n",
    "plt.xlabel('Emitted Wavelength / A',  fontsize=13)\n",
    "plt.ylabel('Continuum-Subtracted Spectral Flux Density / AU', fontsize=9)"
   ]
  },
  {
   "cell_type": "code",
   "execution_count": 50,
   "metadata": {},
   "outputs": [],
   "source": [
    "#sfit = SherpaFitter(optimizer='levmar', estmethod='confidence') # defaults to statistic='leastsq', I think!\n",
    "sfit = SherpaFitter(statistic='chi2', optimizer='levmar', estmethod='confidence') # use if have error data"
   ]
  },
  {
   "cell_type": "code",
   "execution_count": 51,
   "metadata": {},
   "outputs": [],
   "source": [
    "true = Gaussian1D(amplitude=30, mean=4860, stddev=5, name='Mg II')\n",
    "err = 0.8\n",
    "step = 0.2\n",
    "x = df2['wavelength']\n",
    "y = df2['flux_minus_top_minus15']\n",
    "y_errs = df2['error']\n",
    "binsize = step * np.ones(x.shape) # binsize is the width of the bin!"
   ]
  },
  {
   "cell_type": "code",
   "execution_count": 52,
   "metadata": {},
   "outputs": [],
   "source": [
    "fit_model = true.copy() # offset fit model from true\n",
    "fit_model.amplitude = 30\n",
    "fit_model.mean = 4860\n",
    "fit_model.stddev = 5"
   ]
  },
  {
   "cell_type": "code",
   "execution_count": 53,
   "metadata": {},
   "outputs": [],
   "source": [
    "# fitted_model = sfit(fit_model, x, y)\n",
    "fitted_model = sfit(fit_model, x, y, xbinsize=binsize, err=y_errs) # if error data available"
   ]
  },
  {
   "cell_type": "code",
   "execution_count": 55,
   "metadata": {},
   "outputs": [
    {
     "data": {
      "text/plain": [
       "<Gaussian1D(amplitude=31.82827867, mean=4866.2240471, stddev=14.9788925, name='Mg II')>"
      ]
     },
     "execution_count": 55,
     "metadata": {},
     "output_type": "execute_result"
    }
   ],
   "source": [
    "fitted_model"
   ]
  },
  {
   "cell_type": "code",
   "execution_count": 56,
   "metadata": {},
   "outputs": [
    {
     "data": {
      "text/plain": [
       "35.27259632057885"
      ]
     },
     "execution_count": 56,
     "metadata": {},
     "output_type": "execute_result"
    }
   ],
   "source": [
    "fitted_model.fwhm"
   ]
  },
  {
   "cell_type": "code",
   "execution_count": 82,
   "metadata": {},
   "outputs": [
    {
     "data": {
      "text/plain": [
       "4866.224047102973"
      ]
     },
     "execution_count": 82,
     "metadata": {},
     "output_type": "execute_result"
    }
   ],
   "source": [
    "fitted_model.mean.value"
   ]
  },
  {
   "cell_type": "code",
   "execution_count": 95,
   "metadata": {},
   "outputs": [
    {
     "data": {
      "text/plain": [
       "<matplotlib.legend.Legend at 0x1818769dd8>"
      ]
     },
     "execution_count": 95,
     "metadata": {},
     "output_type": "execute_result"
    },
    {
     "data": {
      "image/png": "[encoded data removed]",
      "text/plain": [
       "<matplotlib.figure.Figure at 0x1818ec4390>"
      ]
     },
     "metadata": {},
     "output_type": "display_data"
    }
   ],
   "source": [
    "# Plot the data with the best-fit model\n",
    "plt.figure(figsize=(8,5))\n",
    "plt.plot(x, y, '.', label='data points')\n",
    "#plt.plot(x, t(x), label='Trapezoid')\n",
    "plt.plot(x, fitted_model(x), label='gaussian fit', color='red')\n",
    "plt.axvline(x=fitted_model.mean.value, label='mean', color='yellow', lw=0.5)\n",
    "plt.axvline(x=fitted_model.mean.value+0.5*fitted_model.fwhm, label='fwhm', color='purple', lw=0.5)\n",
    "plt.axvline(x=fitted_model.mean.value-0.5*fitted_model.fwhm, color='purple', lw=0.5)\n",
    "\n",
    "#plt.plot(±0.5*fitted_model.fwhm, label='fwhm', color='yellow') # draw vertical lines to mark fwhm, centred on fitted_model.mean.value\n",
    "\n",
    "plt.title('Emission Peak Gaussian-Fitted (Sherpa)', fontsize=14, color='black')\n",
    "plt.xlabel('Emission Wavelength / A')\n",
    "plt.ylabel('Continuum-Subtracted Spectral Flux Density / AU')\n",
    "plt.ylim(0,)\n",
    "plt.legend()"
   ]
  },
  {
   "cell_type": "code",
   "execution_count": 47,
   "metadata": {},
   "outputs": [
    {
     "name": "stdout",
     "output_type": "stream",
     "text": [
      "datasets       = None\n",
      "itermethodname = none\n",
      "methodname     = levmar\n",
      "statname       = leastsq\n",
      "succeeded      = True\n",
      "parnames       = ('wrap_Mg II.amplitude', 'wrap_Mg II.mean', 'wrap_Mg II.stddev')\n",
      "parvals        = (32.108559317512146, 4866.165105965297, 14.871593071451922)\n",
      "statval        = 814.6485141373934\n",
      "istatval       = 14465.942046486181\n",
      "dstatval       = 13651.293532348787\n",
      "numpoints      = 151\n",
      "dof            = 148\n",
      "qval           = None\n",
      "rstat          = None\n",
      "message        = successful termination\n",
      "nfev           = 25\n"
     ]
    }
   ],
   "source": [
    "print(sfit.fit_info)"
   ]
  },
  {
   "cell_type": "code",
   "execution_count": 48,
   "metadata": {},
   "outputs": [
    {
     "ename": "EstErr",
     "evalue": "cannot estimate confidence limits with LeastSq",
     "output_type": "error",
     "traceback": [
      "\u001b[0;31m---------------------------------------------------------------------------\u001b[0m",
      "\u001b[0;31mEstErr\u001b[0m                                    Traceback (most recent call last)",
      "\u001b[0;32m<ipython-input-48-a331ab09ca8e>\u001b[0m in \u001b[0;36m<module>\u001b[0;34m()\u001b[0m\n\u001b[1;32m      1\u001b[0m \u001b[0;31m# use this if statistic='chi2'\u001b[0m\u001b[0;34m\u001b[0m\u001b[0;34m\u001b[0m\u001b[0m\n\u001b[0;32m----> 2\u001b[0;31m \u001b[0mparam_errors\u001b[0m \u001b[0;34m=\u001b[0m \u001b[0msfit\u001b[0m\u001b[0;34m.\u001b[0m\u001b[0mest_errors\u001b[0m\u001b[0;34m(\u001b[0m\u001b[0msigma\u001b[0m\u001b[0;34m=\u001b[0m\u001b[0;36m3\u001b[0m\u001b[0;34m)\u001b[0m  \u001b[0;31m# Note that sigma can be an input\u001b[0m\u001b[0;34m\u001b[0m\u001b[0m\n\u001b[0m",
      "\u001b[0;32m~/anaconda3/lib/python3.6/site-packages/saba/main.py\u001b[0m in \u001b[0;36mest_errors\u001b[0;34m(self, sigma, maxiters, numcores, methoddict, parlist)\u001b[0m\n\u001b[1;32m    412\u001b[0m                 \u001b[0mself\u001b[0m\u001b[0;34m.\u001b[0m\u001b[0m_fitter\u001b[0m\u001b[0;34m.\u001b[0m\u001b[0mestmethod\u001b[0m\u001b[0;34m.\u001b[0m\u001b[0mconfig\u001b[0m\u001b[0;34m[\u001b[0m\u001b[0;34m'numcores'\u001b[0m\u001b[0;34m]\u001b[0m \u001b[0;34m=\u001b[0m \u001b[0mnumcores\u001b[0m\u001b[0;34m\u001b[0m\u001b[0m\n\u001b[1;32m    413\u001b[0m \u001b[0;34m\u001b[0m\u001b[0m\n\u001b[0;32m--> 414\u001b[0;31m         \u001b[0mself\u001b[0m\u001b[0;34m.\u001b[0m\u001b[0merror_info\u001b[0m \u001b[0;34m=\u001b[0m \u001b[0mself\u001b[0m\u001b[0;34m.\u001b[0m\u001b[0m_fitter\u001b[0m\u001b[0;34m.\u001b[0m\u001b[0mest_errors\u001b[0m\u001b[0;34m(\u001b[0m\u001b[0mmethoddict\u001b[0m\u001b[0;34m=\u001b[0m\u001b[0mmethoddict\u001b[0m\u001b[0;34m,\u001b[0m \u001b[0mparlist\u001b[0m\u001b[0;34m=\u001b[0m\u001b[0mparlist\u001b[0m\u001b[0;34m)\u001b[0m\u001b[0;34m\u001b[0m\u001b[0m\n\u001b[0m\u001b[1;32m    415\u001b[0m         \u001b[0mpnames\u001b[0m \u001b[0;34m=\u001b[0m \u001b[0;34m[\u001b[0m\u001b[0mp\u001b[0m\u001b[0;34m.\u001b[0m\u001b[0msplit\u001b[0m\u001b[0;34m(\u001b[0m\u001b[0;34m\".\"\u001b[0m\u001b[0;34m,\u001b[0m \u001b[0;36m1\u001b[0m\u001b[0;34m)\u001b[0m\u001b[0;34m[\u001b[0m\u001b[0;34m-\u001b[0m\u001b[0;36m1\u001b[0m\u001b[0;34m]\u001b[0m \u001b[0;32mfor\u001b[0m \u001b[0mp\u001b[0m \u001b[0;32min\u001b[0m \u001b[0mself\u001b[0m\u001b[0;34m.\u001b[0m\u001b[0merror_info\u001b[0m\u001b[0;34m.\u001b[0m\u001b[0mparnames\u001b[0m\u001b[0;34m]\u001b[0m  \u001b[0;31m# this is to remove the model name\u001b[0m\u001b[0;34m\u001b[0m\u001b[0m\n\u001b[1;32m    416\u001b[0m         \u001b[0;32mreturn\u001b[0m \u001b[0mpnames\u001b[0m\u001b[0;34m,\u001b[0m \u001b[0mself\u001b[0m\u001b[0;34m.\u001b[0m\u001b[0merror_info\u001b[0m\u001b[0;34m.\u001b[0m\u001b[0mparvals\u001b[0m\u001b[0;34m,\u001b[0m \u001b[0mself\u001b[0m\u001b[0;34m.\u001b[0m\u001b[0merror_info\u001b[0m\u001b[0;34m.\u001b[0m\u001b[0mparmins\u001b[0m\u001b[0;34m,\u001b[0m \u001b[0mself\u001b[0m\u001b[0;34m.\u001b[0m\u001b[0merror_info\u001b[0m\u001b[0;34m.\u001b[0m\u001b[0mparmaxes\u001b[0m\u001b[0;34m\u001b[0m\u001b[0m\n",
      "\u001b[0;32m~/anaconda3/lib/python3.6/site-packages/sherpa/fit.py\u001b[0m in \u001b[0;36mrun\u001b[0;34m(fit, *args, **kwargs)\u001b[0m\n\u001b[1;32m     51\u001b[0m     \u001b[0;32mdef\u001b[0m \u001b[0mrun\u001b[0m\u001b[0;34m(\u001b[0m\u001b[0mfit\u001b[0m\u001b[0;34m,\u001b[0m \u001b[0;34m*\u001b[0m\u001b[0margs\u001b[0m\u001b[0;34m,\u001b[0m \u001b[0;34m**\u001b[0m\u001b[0mkwargs\u001b[0m\u001b[0;34m)\u001b[0m\u001b[0;34m:\u001b[0m\u001b[0;34m\u001b[0m\u001b[0m\n\u001b[1;32m     52\u001b[0m         \u001b[0mfit\u001b[0m\u001b[0;34m.\u001b[0m\u001b[0mmodel\u001b[0m\u001b[0;34m.\u001b[0m\u001b[0mstartup\u001b[0m\u001b[0;34m(\u001b[0m\u001b[0;34m)\u001b[0m\u001b[0;34m\u001b[0m\u001b[0m\n\u001b[0;32m---> 53\u001b[0;31m         \u001b[0mresult\u001b[0m \u001b[0;34m=\u001b[0m \u001b[0mfunc\u001b[0m\u001b[0;34m(\u001b[0m\u001b[0mfit\u001b[0m\u001b[0;34m,\u001b[0m \u001b[0;34m*\u001b[0m\u001b[0margs\u001b[0m\u001b[0;34m,\u001b[0m \u001b[0;34m**\u001b[0m\u001b[0mkwargs\u001b[0m\u001b[0;34m)\u001b[0m\u001b[0;34m\u001b[0m\u001b[0m\n\u001b[0m\u001b[1;32m     54\u001b[0m         \u001b[0mfit\u001b[0m\u001b[0;34m.\u001b[0m\u001b[0mmodel\u001b[0m\u001b[0;34m.\u001b[0m\u001b[0mteardown\u001b[0m\u001b[0;34m(\u001b[0m\u001b[0;34m)\u001b[0m\u001b[0;34m\u001b[0m\u001b[0m\n\u001b[1;32m     55\u001b[0m         \u001b[0;32mreturn\u001b[0m \u001b[0mresult\u001b[0m\u001b[0;34m\u001b[0m\u001b[0m\n",
      "\u001b[0;32m~/anaconda3/lib/python3.6/site-packages/sherpa/fit.py\u001b[0m in \u001b[0;36mest_errors\u001b[0;34m(self, methoddict, parlist)\u001b[0m\n\u001b[1;32m   1432\u001b[0m \u001b[0;34m\u001b[0m\u001b[0m\n\u001b[1;32m   1433\u001b[0m         \u001b[0;32mif\u001b[0m \u001b[0mtype\u001b[0m\u001b[0;34m(\u001b[0m\u001b[0mself\u001b[0m\u001b[0;34m.\u001b[0m\u001b[0mstat\u001b[0m\u001b[0;34m)\u001b[0m \u001b[0;32mis\u001b[0m \u001b[0mLeastSq\u001b[0m\u001b[0;34m:\u001b[0m\u001b[0;34m\u001b[0m\u001b[0m\n\u001b[0;32m-> 1434\u001b[0;31m             \u001b[0;32mraise\u001b[0m \u001b[0mEstErr\u001b[0m\u001b[0;34m(\u001b[0m\u001b[0;34m'noerr4least2'\u001b[0m\u001b[0;34m,\u001b[0m \u001b[0mtype\u001b[0m\u001b[0;34m(\u001b[0m\u001b[0mself\u001b[0m\u001b[0;34m.\u001b[0m\u001b[0mstat\u001b[0m\u001b[0;34m)\u001b[0m\u001b[0;34m.\u001b[0m\u001b[0m__name__\u001b[0m\u001b[0;34m)\u001b[0m\u001b[0;34m\u001b[0m\u001b[0m\n\u001b[0m\u001b[1;32m   1435\u001b[0m \u001b[0;34m\u001b[0m\u001b[0m\n\u001b[1;32m   1436\u001b[0m         \u001b[0;32mif\u001b[0m \u001b[0mtype\u001b[0m\u001b[0;34m(\u001b[0m\u001b[0mself\u001b[0m\u001b[0;34m.\u001b[0m\u001b[0mstat\u001b[0m\u001b[0;34m)\u001b[0m \u001b[0;32mis\u001b[0m \u001b[0;32mnot\u001b[0m \u001b[0mCash\u001b[0m\u001b[0;34m:\u001b[0m\u001b[0;34m\u001b[0m\u001b[0m\n",
      "\u001b[0;31mEstErr\u001b[0m: cannot estimate confidence limits with LeastSq"
     ]
    }
   ],
   "source": [
    "# use this if statistic='chi2'\n",
    "param_errors = sfit.est_errors(sigma=3)  # Note that sigma can be an input"
   ]
  },
  {
   "cell_type": "code",
   "execution_count": 49,
   "metadata": {},
   "outputs": [
    {
     "ename": "NameError",
     "evalue": "name 'param_errors' is not defined",
     "output_type": "error",
     "traceback": [
      "\u001b[0;31m---------------------------------------------------------------------------\u001b[0m",
      "\u001b[0;31mNameError\u001b[0m                                 Traceback (most recent call last)",
      "\u001b[0;32m<ipython-input-49-dc80b4558173>\u001b[0m in \u001b[0;36m<module>\u001b[0;34m()\u001b[0m\n\u001b[1;32m      2\u001b[0m \u001b[0mmax_model\u001b[0m \u001b[0;34m=\u001b[0m \u001b[0mfitted_model\u001b[0m\u001b[0;34m.\u001b[0m\u001b[0mcopy\u001b[0m\u001b[0;34m(\u001b[0m\u001b[0;34m)\u001b[0m\u001b[0;34m\u001b[0m\u001b[0m\n\u001b[1;32m      3\u001b[0m \u001b[0;34m\u001b[0m\u001b[0m\n\u001b[0;32m----> 4\u001b[0;31m \u001b[0;32mfor\u001b[0m \u001b[0mpname\u001b[0m\u001b[0;34m,\u001b[0m \u001b[0mpval\u001b[0m\u001b[0;34m,\u001b[0m \u001b[0mpmin\u001b[0m\u001b[0;34m,\u001b[0m \u001b[0mpmax\u001b[0m \u001b[0;32min\u001b[0m \u001b[0mzip\u001b[0m\u001b[0;34m(\u001b[0m\u001b[0;34m*\u001b[0m\u001b[0mparam_errors\u001b[0m\u001b[0;34m)\u001b[0m\u001b[0;34m:\u001b[0m\u001b[0;34m\u001b[0m\u001b[0m\n\u001b[0m\u001b[1;32m      5\u001b[0m         \u001b[0mprint\u001b[0m\u001b[0;34m(\u001b[0m\u001b[0mpname\u001b[0m\u001b[0;34m,\u001b[0m \u001b[0mpval\u001b[0m\u001b[0;34m,\u001b[0m \u001b[0mpmin\u001b[0m\u001b[0;34m,\u001b[0m \u001b[0mpmax\u001b[0m\u001b[0;34m)\u001b[0m\u001b[0;34m\u001b[0m\u001b[0m\n\u001b[1;32m      6\u001b[0m         \u001b[0mgetattr\u001b[0m\u001b[0;34m(\u001b[0m\u001b[0mmin_model\u001b[0m\u001b[0;34m,\u001b[0m \u001b[0mpname\u001b[0m\u001b[0;34m)\u001b[0m\u001b[0;34m.\u001b[0m\u001b[0mvalue\u001b[0m \u001b[0;34m=\u001b[0m \u001b[0mpval\u001b[0m \u001b[0;34m+\u001b[0m \u001b[0mpmin\u001b[0m\u001b[0;34m\u001b[0m\u001b[0m\n",
      "\u001b[0;31mNameError\u001b[0m: name 'param_errors' is not defined"
     ]
    }
   ],
   "source": [
    "min_model = fitted_model.copy()\n",
    "max_model = fitted_model.copy()\n",
    "\n",
    "for pname, pval, pmin, pmax in zip(*param_errors):\n",
    "        print(pname, pval, pmin, pmax)\n",
    "        getattr(min_model, pname).value = pval + pmin\n",
    "        getattr(max_model, pname).value = pval + pmax"
   ]
  },
  {
   "cell_type": "code",
   "execution_count": null,
   "metadata": {},
   "outputs": [],
   "source": []
  }
 ],
 "metadata": {
  "kernelspec": {
   "display_name": "Python 3",
   "language": "python",
   "name": "python3"
  },
  "language_info": {
   "codemirror_mode": {
    "name": "ipython",
    "version": 3
   },
   "file_extension": ".py",
   "mimetype": "text/x-python",
   "name": "python",
   "nbconvert_exporter": "python",
   "pygments_lexer": "ipython3",
   "version": "3.6.4"
  }
 },
 "nbformat": 4,
 "nbformat_minor": 2
}
